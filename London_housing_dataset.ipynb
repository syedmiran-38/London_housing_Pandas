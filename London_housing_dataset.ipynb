{
  "nbformat": 4,
  "nbformat_minor": 0,
  "metadata": {
    "colab": {
      "provenance": []
    },
    "kernelspec": {
      "name": "python3",
      "display_name": "Python 3"
    },
    "language_info": {
      "name": "python"
    }
  },
  "cells": [
    {
      "cell_type": "markdown",
      "source": [
        "# **London Housing DATASET**"
      ],
      "metadata": {
        "id": "Lr-iV7IQwuj8"
      }
    },
    {
      "cell_type": "markdown",
      "source": [
        "**Importing necessary libraries**"
      ],
      "metadata": {
        "id": "cKLf66lKw0_h"
      }
    },
    {
      "cell_type": "code",
      "execution_count": 1,
      "metadata": {
        "id": "BtAYzCJhdfhH"
      },
      "outputs": [],
      "source": [
        "import pandas as pd"
      ]
    },
    {
      "cell_type": "markdown",
      "source": [
        "**Loading the DataSet**"
      ],
      "metadata": {
        "id": "0LEI7Pd9wut5"
      }
    },
    {
      "cell_type": "code",
      "source": [
        "data = pd.read_csv('/content/5. London Housing Data.csv')\n",
        "data.head()"
      ],
      "metadata": {
        "colab": {
          "base_uri": "https://localhost:8080/",
          "height": 204
        },
        "id": "fZVUCPchw9yv",
        "outputId": "aad3091e-7bb9-4688-fc13-e681fdbdb434"
      },
      "execution_count": 29,
      "outputs": [
        {
          "output_type": "execute_result",
          "data": {
            "text/plain": [
              "       date            area  average_price       code  houses_sold  \\\n",
              "0  1/1/1995  city of london          91449  E09000001         17.0   \n",
              "1  2/1/1995  city of london          82203  E09000001          7.0   \n",
              "2  3/1/1995  city of london          79121  E09000001         14.0   \n",
              "3  4/1/1995  city of london          77101  E09000001          7.0   \n",
              "4  5/1/1995  city of london          84409  E09000001         10.0   \n",
              "\n",
              "   no_of_crimes  \n",
              "0           NaN  \n",
              "1           NaN  \n",
              "2           NaN  \n",
              "3           NaN  \n",
              "4           NaN  "
            ],
            "text/html": [
              "\n",
              "  <div id=\"df-3f166bcf-675f-44fd-8c0e-6892d184d75e\">\n",
              "    <div class=\"colab-df-container\">\n",
              "      <div>\n",
              "<style scoped>\n",
              "    .dataframe tbody tr th:only-of-type {\n",
              "        vertical-align: middle;\n",
              "    }\n",
              "\n",
              "    .dataframe tbody tr th {\n",
              "        vertical-align: top;\n",
              "    }\n",
              "\n",
              "    .dataframe thead th {\n",
              "        text-align: right;\n",
              "    }\n",
              "</style>\n",
              "<table border=\"1\" class=\"dataframe\">\n",
              "  <thead>\n",
              "    <tr style=\"text-align: right;\">\n",
              "      <th></th>\n",
              "      <th>date</th>\n",
              "      <th>area</th>\n",
              "      <th>average_price</th>\n",
              "      <th>code</th>\n",
              "      <th>houses_sold</th>\n",
              "      <th>no_of_crimes</th>\n",
              "    </tr>\n",
              "  </thead>\n",
              "  <tbody>\n",
              "    <tr>\n",
              "      <th>0</th>\n",
              "      <td>1/1/1995</td>\n",
              "      <td>city of london</td>\n",
              "      <td>91449</td>\n",
              "      <td>E09000001</td>\n",
              "      <td>17.0</td>\n",
              "      <td>NaN</td>\n",
              "    </tr>\n",
              "    <tr>\n",
              "      <th>1</th>\n",
              "      <td>2/1/1995</td>\n",
              "      <td>city of london</td>\n",
              "      <td>82203</td>\n",
              "      <td>E09000001</td>\n",
              "      <td>7.0</td>\n",
              "      <td>NaN</td>\n",
              "    </tr>\n",
              "    <tr>\n",
              "      <th>2</th>\n",
              "      <td>3/1/1995</td>\n",
              "      <td>city of london</td>\n",
              "      <td>79121</td>\n",
              "      <td>E09000001</td>\n",
              "      <td>14.0</td>\n",
              "      <td>NaN</td>\n",
              "    </tr>\n",
              "    <tr>\n",
              "      <th>3</th>\n",
              "      <td>4/1/1995</td>\n",
              "      <td>city of london</td>\n",
              "      <td>77101</td>\n",
              "      <td>E09000001</td>\n",
              "      <td>7.0</td>\n",
              "      <td>NaN</td>\n",
              "    </tr>\n",
              "    <tr>\n",
              "      <th>4</th>\n",
              "      <td>5/1/1995</td>\n",
              "      <td>city of london</td>\n",
              "      <td>84409</td>\n",
              "      <td>E09000001</td>\n",
              "      <td>10.0</td>\n",
              "      <td>NaN</td>\n",
              "    </tr>\n",
              "  </tbody>\n",
              "</table>\n",
              "</div>\n",
              "      <button class=\"colab-df-convert\" onclick=\"convertToInteractive('df-3f166bcf-675f-44fd-8c0e-6892d184d75e')\"\n",
              "              title=\"Convert this dataframe to an interactive table.\"\n",
              "              style=\"display:none;\">\n",
              "        \n",
              "  <svg xmlns=\"http://www.w3.org/2000/svg\" height=\"24px\"viewBox=\"0 0 24 24\"\n",
              "       width=\"24px\">\n",
              "    <path d=\"M0 0h24v24H0V0z\" fill=\"none\"/>\n",
              "    <path d=\"M18.56 5.44l.94 2.06.94-2.06 2.06-.94-2.06-.94-.94-2.06-.94 2.06-2.06.94zm-11 1L8.5 8.5l.94-2.06 2.06-.94-2.06-.94L8.5 2.5l-.94 2.06-2.06.94zm10 10l.94 2.06.94-2.06 2.06-.94-2.06-.94-.94-2.06-.94 2.06-2.06.94z\"/><path d=\"M17.41 7.96l-1.37-1.37c-.4-.4-.92-.59-1.43-.59-.52 0-1.04.2-1.43.59L10.3 9.45l-7.72 7.72c-.78.78-.78 2.05 0 2.83L4 21.41c.39.39.9.59 1.41.59.51 0 1.02-.2 1.41-.59l7.78-7.78 2.81-2.81c.8-.78.8-2.07 0-2.86zM5.41 20L4 18.59l7.72-7.72 1.47 1.35L5.41 20z\"/>\n",
              "  </svg>\n",
              "      </button>\n",
              "      \n",
              "  <style>\n",
              "    .colab-df-container {\n",
              "      display:flex;\n",
              "      flex-wrap:wrap;\n",
              "      gap: 12px;\n",
              "    }\n",
              "\n",
              "    .colab-df-convert {\n",
              "      background-color: #E8F0FE;\n",
              "      border: none;\n",
              "      border-radius: 50%;\n",
              "      cursor: pointer;\n",
              "      display: none;\n",
              "      fill: #1967D2;\n",
              "      height: 32px;\n",
              "      padding: 0 0 0 0;\n",
              "      width: 32px;\n",
              "    }\n",
              "\n",
              "    .colab-df-convert:hover {\n",
              "      background-color: #E2EBFA;\n",
              "      box-shadow: 0px 1px 2px rgba(60, 64, 67, 0.3), 0px 1px 3px 1px rgba(60, 64, 67, 0.15);\n",
              "      fill: #174EA6;\n",
              "    }\n",
              "\n",
              "    [theme=dark] .colab-df-convert {\n",
              "      background-color: #3B4455;\n",
              "      fill: #D2E3FC;\n",
              "    }\n",
              "\n",
              "    [theme=dark] .colab-df-convert:hover {\n",
              "      background-color: #434B5C;\n",
              "      box-shadow: 0px 1px 3px 1px rgba(0, 0, 0, 0.15);\n",
              "      filter: drop-shadow(0px 1px 2px rgba(0, 0, 0, 0.3));\n",
              "      fill: #FFFFFF;\n",
              "    }\n",
              "  </style>\n",
              "\n",
              "      <script>\n",
              "        const buttonEl =\n",
              "          document.querySelector('#df-3f166bcf-675f-44fd-8c0e-6892d184d75e button.colab-df-convert');\n",
              "        buttonEl.style.display =\n",
              "          google.colab.kernel.accessAllowed ? 'block' : 'none';\n",
              "\n",
              "        async function convertToInteractive(key) {\n",
              "          const element = document.querySelector('#df-3f166bcf-675f-44fd-8c0e-6892d184d75e');\n",
              "          const dataTable =\n",
              "            await google.colab.kernel.invokeFunction('convertToInteractive',\n",
              "                                                     [key], {});\n",
              "          if (!dataTable) return;\n",
              "\n",
              "          const docLinkHtml = 'Like what you see? Visit the ' +\n",
              "            '<a target=\"_blank\" href=https://colab.research.google.com/notebooks/data_table.ipynb>data table notebook</a>'\n",
              "            + ' to learn more about interactive tables.';\n",
              "          element.innerHTML = '';\n",
              "          dataTable['output_type'] = 'display_data';\n",
              "          await google.colab.output.renderOutput(dataTable, element);\n",
              "          const docLink = document.createElement('div');\n",
              "          docLink.innerHTML = docLinkHtml;\n",
              "          element.appendChild(docLink);\n",
              "        }\n",
              "      </script>\n",
              "    </div>\n",
              "  </div>\n",
              "  "
            ]
          },
          "metadata": {},
          "execution_count": 29
        }
      ]
    },
    {
      "cell_type": "markdown",
      "source": [
        "**Checking Null values**"
      ],
      "metadata": {
        "id": "WBxyjfXy0L53"
      }
    },
    {
      "cell_type": "code",
      "source": [
        "data.isnull().sum()"
      ],
      "metadata": {
        "colab": {
          "base_uri": "https://localhost:8080/"
        },
        "id": "Cu9Omcbj0Joa",
        "outputId": "bd5a63b9-0fe2-42cb-b7cb-fcc590cee6d7"
      },
      "execution_count": 3,
      "outputs": [
        {
          "output_type": "execute_result",
          "data": {
            "text/plain": [
              "date                0\n",
              "area                0\n",
              "average_price       0\n",
              "code                0\n",
              "houses_sold        94\n",
              "no_of_crimes     6110\n",
              "dtype: int64"
            ]
          },
          "metadata": {},
          "execution_count": 3
        }
      ]
    },
    {
      "cell_type": "markdown",
      "source": [
        "**(A) Convert the Datatype of 'Date' column to Date- Time format.**"
      ],
      "metadata": {
        "id": "9CMlOc3E1Dxt"
      }
    },
    {
      "cell_type": "code",
      "source": [
        "data['date'] = pd.to_datetime(data.date)"
      ],
      "metadata": {
        "id": "PvEapIqp0YgD"
      },
      "execution_count": 4,
      "outputs": []
    },
    {
      "cell_type": "code",
      "source": [
        "data.dtypes"
      ],
      "metadata": {
        "colab": {
          "base_uri": "https://localhost:8080/"
        },
        "id": "0M_UVo_s1emp",
        "outputId": "d3c461e7-3dbf-41f8-8812-b5bd0df5dc81"
      },
      "execution_count": 5,
      "outputs": [
        {
          "output_type": "execute_result",
          "data": {
            "text/plain": [
              "date             datetime64[ns]\n",
              "area                     object\n",
              "average_price             int64\n",
              "code                     object\n",
              "houses_sold             float64\n",
              "no_of_crimes            float64\n",
              "dtype: object"
            ]
          },
          "metadata": {},
          "execution_count": 5
        }
      ]
    },
    {
      "cell_type": "markdown",
      "source": [
        "**(B.1) Add a new column \"year\" in the dataframe, which contains years only.**"
      ],
      "metadata": {
        "id": "mRO_QAo85QWg"
      }
    },
    {
      "cell_type": "code",
      "source": [
        "data['year'] = data['date'].dt.year"
      ],
      "metadata": {
        "id": "398vr3xq1iAo"
      },
      "execution_count": 6,
      "outputs": []
    },
    {
      "cell_type": "code",
      "source": [
        "data.head()"
      ],
      "metadata": {
        "colab": {
          "base_uri": "https://localhost:8080/",
          "height": 204
        },
        "id": "ZaKtdVCjF8Pu",
        "outputId": "6e0da355-b2a1-419c-becc-edd8de88f613"
      },
      "execution_count": 7,
      "outputs": [
        {
          "output_type": "execute_result",
          "data": {
            "text/plain": [
              "        date            area  average_price       code  houses_sold  \\\n",
              "0 1995-01-01  city of london          91449  E09000001         17.0   \n",
              "1 1995-02-01  city of london          82203  E09000001          7.0   \n",
              "2 1995-03-01  city of london          79121  E09000001         14.0   \n",
              "3 1995-04-01  city of london          77101  E09000001          7.0   \n",
              "4 1995-05-01  city of london          84409  E09000001         10.0   \n",
              "\n",
              "   no_of_crimes  year  \n",
              "0           NaN  1995  \n",
              "1           NaN  1995  \n",
              "2           NaN  1995  \n",
              "3           NaN  1995  \n",
              "4           NaN  1995  "
            ],
            "text/html": [
              "\n",
              "  <div id=\"df-c44fd54a-86e9-4777-8f70-a3ddc3c5a679\">\n",
              "    <div class=\"colab-df-container\">\n",
              "      <div>\n",
              "<style scoped>\n",
              "    .dataframe tbody tr th:only-of-type {\n",
              "        vertical-align: middle;\n",
              "    }\n",
              "\n",
              "    .dataframe tbody tr th {\n",
              "        vertical-align: top;\n",
              "    }\n",
              "\n",
              "    .dataframe thead th {\n",
              "        text-align: right;\n",
              "    }\n",
              "</style>\n",
              "<table border=\"1\" class=\"dataframe\">\n",
              "  <thead>\n",
              "    <tr style=\"text-align: right;\">\n",
              "      <th></th>\n",
              "      <th>date</th>\n",
              "      <th>area</th>\n",
              "      <th>average_price</th>\n",
              "      <th>code</th>\n",
              "      <th>houses_sold</th>\n",
              "      <th>no_of_crimes</th>\n",
              "      <th>year</th>\n",
              "    </tr>\n",
              "  </thead>\n",
              "  <tbody>\n",
              "    <tr>\n",
              "      <th>0</th>\n",
              "      <td>1995-01-01</td>\n",
              "      <td>city of london</td>\n",
              "      <td>91449</td>\n",
              "      <td>E09000001</td>\n",
              "      <td>17.0</td>\n",
              "      <td>NaN</td>\n",
              "      <td>1995</td>\n",
              "    </tr>\n",
              "    <tr>\n",
              "      <th>1</th>\n",
              "      <td>1995-02-01</td>\n",
              "      <td>city of london</td>\n",
              "      <td>82203</td>\n",
              "      <td>E09000001</td>\n",
              "      <td>7.0</td>\n",
              "      <td>NaN</td>\n",
              "      <td>1995</td>\n",
              "    </tr>\n",
              "    <tr>\n",
              "      <th>2</th>\n",
              "      <td>1995-03-01</td>\n",
              "      <td>city of london</td>\n",
              "      <td>79121</td>\n",
              "      <td>E09000001</td>\n",
              "      <td>14.0</td>\n",
              "      <td>NaN</td>\n",
              "      <td>1995</td>\n",
              "    </tr>\n",
              "    <tr>\n",
              "      <th>3</th>\n",
              "      <td>1995-04-01</td>\n",
              "      <td>city of london</td>\n",
              "      <td>77101</td>\n",
              "      <td>E09000001</td>\n",
              "      <td>7.0</td>\n",
              "      <td>NaN</td>\n",
              "      <td>1995</td>\n",
              "    </tr>\n",
              "    <tr>\n",
              "      <th>4</th>\n",
              "      <td>1995-05-01</td>\n",
              "      <td>city of london</td>\n",
              "      <td>84409</td>\n",
              "      <td>E09000001</td>\n",
              "      <td>10.0</td>\n",
              "      <td>NaN</td>\n",
              "      <td>1995</td>\n",
              "    </tr>\n",
              "  </tbody>\n",
              "</table>\n",
              "</div>\n",
              "      <button class=\"colab-df-convert\" onclick=\"convertToInteractive('df-c44fd54a-86e9-4777-8f70-a3ddc3c5a679')\"\n",
              "              title=\"Convert this dataframe to an interactive table.\"\n",
              "              style=\"display:none;\">\n",
              "        \n",
              "  <svg xmlns=\"http://www.w3.org/2000/svg\" height=\"24px\"viewBox=\"0 0 24 24\"\n",
              "       width=\"24px\">\n",
              "    <path d=\"M0 0h24v24H0V0z\" fill=\"none\"/>\n",
              "    <path d=\"M18.56 5.44l.94 2.06.94-2.06 2.06-.94-2.06-.94-.94-2.06-.94 2.06-2.06.94zm-11 1L8.5 8.5l.94-2.06 2.06-.94-2.06-.94L8.5 2.5l-.94 2.06-2.06.94zm10 10l.94 2.06.94-2.06 2.06-.94-2.06-.94-.94-2.06-.94 2.06-2.06.94z\"/><path d=\"M17.41 7.96l-1.37-1.37c-.4-.4-.92-.59-1.43-.59-.52 0-1.04.2-1.43.59L10.3 9.45l-7.72 7.72c-.78.78-.78 2.05 0 2.83L4 21.41c.39.39.9.59 1.41.59.51 0 1.02-.2 1.41-.59l7.78-7.78 2.81-2.81c.8-.78.8-2.07 0-2.86zM5.41 20L4 18.59l7.72-7.72 1.47 1.35L5.41 20z\"/>\n",
              "  </svg>\n",
              "      </button>\n",
              "      \n",
              "  <style>\n",
              "    .colab-df-container {\n",
              "      display:flex;\n",
              "      flex-wrap:wrap;\n",
              "      gap: 12px;\n",
              "    }\n",
              "\n",
              "    .colab-df-convert {\n",
              "      background-color: #E8F0FE;\n",
              "      border: none;\n",
              "      border-radius: 50%;\n",
              "      cursor: pointer;\n",
              "      display: none;\n",
              "      fill: #1967D2;\n",
              "      height: 32px;\n",
              "      padding: 0 0 0 0;\n",
              "      width: 32px;\n",
              "    }\n",
              "\n",
              "    .colab-df-convert:hover {\n",
              "      background-color: #E2EBFA;\n",
              "      box-shadow: 0px 1px 2px rgba(60, 64, 67, 0.3), 0px 1px 3px 1px rgba(60, 64, 67, 0.15);\n",
              "      fill: #174EA6;\n",
              "    }\n",
              "\n",
              "    [theme=dark] .colab-df-convert {\n",
              "      background-color: #3B4455;\n",
              "      fill: #D2E3FC;\n",
              "    }\n",
              "\n",
              "    [theme=dark] .colab-df-convert:hover {\n",
              "      background-color: #434B5C;\n",
              "      box-shadow: 0px 1px 3px 1px rgba(0, 0, 0, 0.15);\n",
              "      filter: drop-shadow(0px 1px 2px rgba(0, 0, 0, 0.3));\n",
              "      fill: #FFFFFF;\n",
              "    }\n",
              "  </style>\n",
              "\n",
              "      <script>\n",
              "        const buttonEl =\n",
              "          document.querySelector('#df-c44fd54a-86e9-4777-8f70-a3ddc3c5a679 button.colab-df-convert');\n",
              "        buttonEl.style.display =\n",
              "          google.colab.kernel.accessAllowed ? 'block' : 'none';\n",
              "\n",
              "        async function convertToInteractive(key) {\n",
              "          const element = document.querySelector('#df-c44fd54a-86e9-4777-8f70-a3ddc3c5a679');\n",
              "          const dataTable =\n",
              "            await google.colab.kernel.invokeFunction('convertToInteractive',\n",
              "                                                     [key], {});\n",
              "          if (!dataTable) return;\n",
              "\n",
              "          const docLinkHtml = 'Like what you see? Visit the ' +\n",
              "            '<a target=\"_blank\" href=https://colab.research.google.com/notebooks/data_table.ipynb>data table notebook</a>'\n",
              "            + ' to learn more about interactive tables.';\n",
              "          element.innerHTML = '';\n",
              "          dataTable['output_type'] = 'display_data';\n",
              "          await google.colab.output.renderOutput(dataTable, element);\n",
              "          const docLink = document.createElement('div');\n",
              "          docLink.innerHTML = docLinkHtml;\n",
              "          element.appendChild(docLink);\n",
              "        }\n",
              "      </script>\n",
              "    </div>\n",
              "  </div>\n",
              "  "
            ]
          },
          "metadata": {},
          "execution_count": 7
        }
      ]
    },
    {
      "cell_type": "markdown",
      "source": [
        "**(B.2) Add a new column \"month\" as 2nd column in the dataframe, which contains month only.**"
      ],
      "metadata": {
        "id": "d0Lq-Kt4GNxb"
      }
    },
    {
      "cell_type": "code",
      "source": [
        "data.insert(1, 'Month', data['date'].dt.month)\n",
        "data.head()"
      ],
      "metadata": {
        "colab": {
          "base_uri": "https://localhost:8080/",
          "height": 204
        },
        "id": "LjcdQdRbF9V3",
        "outputId": "df7e4fa6-9cd0-4544-9e63-74063d20694e"
      },
      "execution_count": 8,
      "outputs": [
        {
          "output_type": "execute_result",
          "data": {
            "text/plain": [
              "        date  Month            area  average_price       code  houses_sold  \\\n",
              "0 1995-01-01      1  city of london          91449  E09000001         17.0   \n",
              "1 1995-02-01      2  city of london          82203  E09000001          7.0   \n",
              "2 1995-03-01      3  city of london          79121  E09000001         14.0   \n",
              "3 1995-04-01      4  city of london          77101  E09000001          7.0   \n",
              "4 1995-05-01      5  city of london          84409  E09000001         10.0   \n",
              "\n",
              "   no_of_crimes  year  \n",
              "0           NaN  1995  \n",
              "1           NaN  1995  \n",
              "2           NaN  1995  \n",
              "3           NaN  1995  \n",
              "4           NaN  1995  "
            ],
            "text/html": [
              "\n",
              "  <div id=\"df-a8723add-41cf-4e10-8a98-ed0f7e3fc0d7\">\n",
              "    <div class=\"colab-df-container\">\n",
              "      <div>\n",
              "<style scoped>\n",
              "    .dataframe tbody tr th:only-of-type {\n",
              "        vertical-align: middle;\n",
              "    }\n",
              "\n",
              "    .dataframe tbody tr th {\n",
              "        vertical-align: top;\n",
              "    }\n",
              "\n",
              "    .dataframe thead th {\n",
              "        text-align: right;\n",
              "    }\n",
              "</style>\n",
              "<table border=\"1\" class=\"dataframe\">\n",
              "  <thead>\n",
              "    <tr style=\"text-align: right;\">\n",
              "      <th></th>\n",
              "      <th>date</th>\n",
              "      <th>Month</th>\n",
              "      <th>area</th>\n",
              "      <th>average_price</th>\n",
              "      <th>code</th>\n",
              "      <th>houses_sold</th>\n",
              "      <th>no_of_crimes</th>\n",
              "      <th>year</th>\n",
              "    </tr>\n",
              "  </thead>\n",
              "  <tbody>\n",
              "    <tr>\n",
              "      <th>0</th>\n",
              "      <td>1995-01-01</td>\n",
              "      <td>1</td>\n",
              "      <td>city of london</td>\n",
              "      <td>91449</td>\n",
              "      <td>E09000001</td>\n",
              "      <td>17.0</td>\n",
              "      <td>NaN</td>\n",
              "      <td>1995</td>\n",
              "    </tr>\n",
              "    <tr>\n",
              "      <th>1</th>\n",
              "      <td>1995-02-01</td>\n",
              "      <td>2</td>\n",
              "      <td>city of london</td>\n",
              "      <td>82203</td>\n",
              "      <td>E09000001</td>\n",
              "      <td>7.0</td>\n",
              "      <td>NaN</td>\n",
              "      <td>1995</td>\n",
              "    </tr>\n",
              "    <tr>\n",
              "      <th>2</th>\n",
              "      <td>1995-03-01</td>\n",
              "      <td>3</td>\n",
              "      <td>city of london</td>\n",
              "      <td>79121</td>\n",
              "      <td>E09000001</td>\n",
              "      <td>14.0</td>\n",
              "      <td>NaN</td>\n",
              "      <td>1995</td>\n",
              "    </tr>\n",
              "    <tr>\n",
              "      <th>3</th>\n",
              "      <td>1995-04-01</td>\n",
              "      <td>4</td>\n",
              "      <td>city of london</td>\n",
              "      <td>77101</td>\n",
              "      <td>E09000001</td>\n",
              "      <td>7.0</td>\n",
              "      <td>NaN</td>\n",
              "      <td>1995</td>\n",
              "    </tr>\n",
              "    <tr>\n",
              "      <th>4</th>\n",
              "      <td>1995-05-01</td>\n",
              "      <td>5</td>\n",
              "      <td>city of london</td>\n",
              "      <td>84409</td>\n",
              "      <td>E09000001</td>\n",
              "      <td>10.0</td>\n",
              "      <td>NaN</td>\n",
              "      <td>1995</td>\n",
              "    </tr>\n",
              "  </tbody>\n",
              "</table>\n",
              "</div>\n",
              "      <button class=\"colab-df-convert\" onclick=\"convertToInteractive('df-a8723add-41cf-4e10-8a98-ed0f7e3fc0d7')\"\n",
              "              title=\"Convert this dataframe to an interactive table.\"\n",
              "              style=\"display:none;\">\n",
              "        \n",
              "  <svg xmlns=\"http://www.w3.org/2000/svg\" height=\"24px\"viewBox=\"0 0 24 24\"\n",
              "       width=\"24px\">\n",
              "    <path d=\"M0 0h24v24H0V0z\" fill=\"none\"/>\n",
              "    <path d=\"M18.56 5.44l.94 2.06.94-2.06 2.06-.94-2.06-.94-.94-2.06-.94 2.06-2.06.94zm-11 1L8.5 8.5l.94-2.06 2.06-.94-2.06-.94L8.5 2.5l-.94 2.06-2.06.94zm10 10l.94 2.06.94-2.06 2.06-.94-2.06-.94-.94-2.06-.94 2.06-2.06.94z\"/><path d=\"M17.41 7.96l-1.37-1.37c-.4-.4-.92-.59-1.43-.59-.52 0-1.04.2-1.43.59L10.3 9.45l-7.72 7.72c-.78.78-.78 2.05 0 2.83L4 21.41c.39.39.9.59 1.41.59.51 0 1.02-.2 1.41-.59l7.78-7.78 2.81-2.81c.8-.78.8-2.07 0-2.86zM5.41 20L4 18.59l7.72-7.72 1.47 1.35L5.41 20z\"/>\n",
              "  </svg>\n",
              "      </button>\n",
              "      \n",
              "  <style>\n",
              "    .colab-df-container {\n",
              "      display:flex;\n",
              "      flex-wrap:wrap;\n",
              "      gap: 12px;\n",
              "    }\n",
              "\n",
              "    .colab-df-convert {\n",
              "      background-color: #E8F0FE;\n",
              "      border: none;\n",
              "      border-radius: 50%;\n",
              "      cursor: pointer;\n",
              "      display: none;\n",
              "      fill: #1967D2;\n",
              "      height: 32px;\n",
              "      padding: 0 0 0 0;\n",
              "      width: 32px;\n",
              "    }\n",
              "\n",
              "    .colab-df-convert:hover {\n",
              "      background-color: #E2EBFA;\n",
              "      box-shadow: 0px 1px 2px rgba(60, 64, 67, 0.3), 0px 1px 3px 1px rgba(60, 64, 67, 0.15);\n",
              "      fill: #174EA6;\n",
              "    }\n",
              "\n",
              "    [theme=dark] .colab-df-convert {\n",
              "      background-color: #3B4455;\n",
              "      fill: #D2E3FC;\n",
              "    }\n",
              "\n",
              "    [theme=dark] .colab-df-convert:hover {\n",
              "      background-color: #434B5C;\n",
              "      box-shadow: 0px 1px 3px 1px rgba(0, 0, 0, 0.15);\n",
              "      filter: drop-shadow(0px 1px 2px rgba(0, 0, 0, 0.3));\n",
              "      fill: #FFFFFF;\n",
              "    }\n",
              "  </style>\n",
              "\n",
              "      <script>\n",
              "        const buttonEl =\n",
              "          document.querySelector('#df-a8723add-41cf-4e10-8a98-ed0f7e3fc0d7 button.colab-df-convert');\n",
              "        buttonEl.style.display =\n",
              "          google.colab.kernel.accessAllowed ? 'block' : 'none';\n",
              "\n",
              "        async function convertToInteractive(key) {\n",
              "          const element = document.querySelector('#df-a8723add-41cf-4e10-8a98-ed0f7e3fc0d7');\n",
              "          const dataTable =\n",
              "            await google.colab.kernel.invokeFunction('convertToInteractive',\n",
              "                                                     [key], {});\n",
              "          if (!dataTable) return;\n",
              "\n",
              "          const docLinkHtml = 'Like what you see? Visit the ' +\n",
              "            '<a target=\"_blank\" href=https://colab.research.google.com/notebooks/data_table.ipynb>data table notebook</a>'\n",
              "            + ' to learn more about interactive tables.';\n",
              "          element.innerHTML = '';\n",
              "          dataTable['output_type'] = 'display_data';\n",
              "          await google.colab.output.renderOutput(dataTable, element);\n",
              "          const docLink = document.createElement('div');\n",
              "          docLink.innerHTML = docLinkHtml;\n",
              "          element.appendChild(docLink);\n",
              "        }\n",
              "      </script>\n",
              "    </div>\n",
              "  </div>\n",
              "  "
            ]
          },
          "metadata": {},
          "execution_count": 8
        }
      ]
    },
    {
      "cell_type": "markdown",
      "source": [
        "**(C) Remove the columns 'year' and 'month' from the dataframe.**"
      ],
      "metadata": {
        "id": "PdtHPqPfG5Me"
      }
    },
    {
      "cell_type": "code",
      "source": [
        "data.drop(columns = ['Month', 'year'], inplace = True)\n",
        "data.head()"
      ],
      "metadata": {
        "colab": {
          "base_uri": "https://localhost:8080/",
          "height": 204
        },
        "id": "ORseVvkxGih7",
        "outputId": "d0c86e9b-2b50-428c-a3e0-5d335a2fb305"
      },
      "execution_count": 9,
      "outputs": [
        {
          "output_type": "execute_result",
          "data": {
            "text/plain": [
              "        date            area  average_price       code  houses_sold  \\\n",
              "0 1995-01-01  city of london          91449  E09000001         17.0   \n",
              "1 1995-02-01  city of london          82203  E09000001          7.0   \n",
              "2 1995-03-01  city of london          79121  E09000001         14.0   \n",
              "3 1995-04-01  city of london          77101  E09000001          7.0   \n",
              "4 1995-05-01  city of london          84409  E09000001         10.0   \n",
              "\n",
              "   no_of_crimes  \n",
              "0           NaN  \n",
              "1           NaN  \n",
              "2           NaN  \n",
              "3           NaN  \n",
              "4           NaN  "
            ],
            "text/html": [
              "\n",
              "  <div id=\"df-2909749e-e5b5-448b-bfa3-cbf2ec19835d\">\n",
              "    <div class=\"colab-df-container\">\n",
              "      <div>\n",
              "<style scoped>\n",
              "    .dataframe tbody tr th:only-of-type {\n",
              "        vertical-align: middle;\n",
              "    }\n",
              "\n",
              "    .dataframe tbody tr th {\n",
              "        vertical-align: top;\n",
              "    }\n",
              "\n",
              "    .dataframe thead th {\n",
              "        text-align: right;\n",
              "    }\n",
              "</style>\n",
              "<table border=\"1\" class=\"dataframe\">\n",
              "  <thead>\n",
              "    <tr style=\"text-align: right;\">\n",
              "      <th></th>\n",
              "      <th>date</th>\n",
              "      <th>area</th>\n",
              "      <th>average_price</th>\n",
              "      <th>code</th>\n",
              "      <th>houses_sold</th>\n",
              "      <th>no_of_crimes</th>\n",
              "    </tr>\n",
              "  </thead>\n",
              "  <tbody>\n",
              "    <tr>\n",
              "      <th>0</th>\n",
              "      <td>1995-01-01</td>\n",
              "      <td>city of london</td>\n",
              "      <td>91449</td>\n",
              "      <td>E09000001</td>\n",
              "      <td>17.0</td>\n",
              "      <td>NaN</td>\n",
              "    </tr>\n",
              "    <tr>\n",
              "      <th>1</th>\n",
              "      <td>1995-02-01</td>\n",
              "      <td>city of london</td>\n",
              "      <td>82203</td>\n",
              "      <td>E09000001</td>\n",
              "      <td>7.0</td>\n",
              "      <td>NaN</td>\n",
              "    </tr>\n",
              "    <tr>\n",
              "      <th>2</th>\n",
              "      <td>1995-03-01</td>\n",
              "      <td>city of london</td>\n",
              "      <td>79121</td>\n",
              "      <td>E09000001</td>\n",
              "      <td>14.0</td>\n",
              "      <td>NaN</td>\n",
              "    </tr>\n",
              "    <tr>\n",
              "      <th>3</th>\n",
              "      <td>1995-04-01</td>\n",
              "      <td>city of london</td>\n",
              "      <td>77101</td>\n",
              "      <td>E09000001</td>\n",
              "      <td>7.0</td>\n",
              "      <td>NaN</td>\n",
              "    </tr>\n",
              "    <tr>\n",
              "      <th>4</th>\n",
              "      <td>1995-05-01</td>\n",
              "      <td>city of london</td>\n",
              "      <td>84409</td>\n",
              "      <td>E09000001</td>\n",
              "      <td>10.0</td>\n",
              "      <td>NaN</td>\n",
              "    </tr>\n",
              "  </tbody>\n",
              "</table>\n",
              "</div>\n",
              "      <button class=\"colab-df-convert\" onclick=\"convertToInteractive('df-2909749e-e5b5-448b-bfa3-cbf2ec19835d')\"\n",
              "              title=\"Convert this dataframe to an interactive table.\"\n",
              "              style=\"display:none;\">\n",
              "        \n",
              "  <svg xmlns=\"http://www.w3.org/2000/svg\" height=\"24px\"viewBox=\"0 0 24 24\"\n",
              "       width=\"24px\">\n",
              "    <path d=\"M0 0h24v24H0V0z\" fill=\"none\"/>\n",
              "    <path d=\"M18.56 5.44l.94 2.06.94-2.06 2.06-.94-2.06-.94-.94-2.06-.94 2.06-2.06.94zm-11 1L8.5 8.5l.94-2.06 2.06-.94-2.06-.94L8.5 2.5l-.94 2.06-2.06.94zm10 10l.94 2.06.94-2.06 2.06-.94-2.06-.94-.94-2.06-.94 2.06-2.06.94z\"/><path d=\"M17.41 7.96l-1.37-1.37c-.4-.4-.92-.59-1.43-.59-.52 0-1.04.2-1.43.59L10.3 9.45l-7.72 7.72c-.78.78-.78 2.05 0 2.83L4 21.41c.39.39.9.59 1.41.59.51 0 1.02-.2 1.41-.59l7.78-7.78 2.81-2.81c.8-.78.8-2.07 0-2.86zM5.41 20L4 18.59l7.72-7.72 1.47 1.35L5.41 20z\"/>\n",
              "  </svg>\n",
              "      </button>\n",
              "      \n",
              "  <style>\n",
              "    .colab-df-container {\n",
              "      display:flex;\n",
              "      flex-wrap:wrap;\n",
              "      gap: 12px;\n",
              "    }\n",
              "\n",
              "    .colab-df-convert {\n",
              "      background-color: #E8F0FE;\n",
              "      border: none;\n",
              "      border-radius: 50%;\n",
              "      cursor: pointer;\n",
              "      display: none;\n",
              "      fill: #1967D2;\n",
              "      height: 32px;\n",
              "      padding: 0 0 0 0;\n",
              "      width: 32px;\n",
              "    }\n",
              "\n",
              "    .colab-df-convert:hover {\n",
              "      background-color: #E2EBFA;\n",
              "      box-shadow: 0px 1px 2px rgba(60, 64, 67, 0.3), 0px 1px 3px 1px rgba(60, 64, 67, 0.15);\n",
              "      fill: #174EA6;\n",
              "    }\n",
              "\n",
              "    [theme=dark] .colab-df-convert {\n",
              "      background-color: #3B4455;\n",
              "      fill: #D2E3FC;\n",
              "    }\n",
              "\n",
              "    [theme=dark] .colab-df-convert:hover {\n",
              "      background-color: #434B5C;\n",
              "      box-shadow: 0px 1px 3px 1px rgba(0, 0, 0, 0.15);\n",
              "      filter: drop-shadow(0px 1px 2px rgba(0, 0, 0, 0.3));\n",
              "      fill: #FFFFFF;\n",
              "    }\n",
              "  </style>\n",
              "\n",
              "      <script>\n",
              "        const buttonEl =\n",
              "          document.querySelector('#df-2909749e-e5b5-448b-bfa3-cbf2ec19835d button.colab-df-convert');\n",
              "        buttonEl.style.display =\n",
              "          google.colab.kernel.accessAllowed ? 'block' : 'none';\n",
              "\n",
              "        async function convertToInteractive(key) {\n",
              "          const element = document.querySelector('#df-2909749e-e5b5-448b-bfa3-cbf2ec19835d');\n",
              "          const dataTable =\n",
              "            await google.colab.kernel.invokeFunction('convertToInteractive',\n",
              "                                                     [key], {});\n",
              "          if (!dataTable) return;\n",
              "\n",
              "          const docLinkHtml = 'Like what you see? Visit the ' +\n",
              "            '<a target=\"_blank\" href=https://colab.research.google.com/notebooks/data_table.ipynb>data table notebook</a>'\n",
              "            + ' to learn more about interactive tables.';\n",
              "          element.innerHTML = '';\n",
              "          dataTable['output_type'] = 'display_data';\n",
              "          await google.colab.output.renderOutput(dataTable, element);\n",
              "          const docLink = document.createElement('div');\n",
              "          docLink.innerHTML = docLinkHtml;\n",
              "          element.appendChild(docLink);\n",
              "        }\n",
              "      </script>\n",
              "    </div>\n",
              "  </div>\n",
              "  "
            ]
          },
          "metadata": {},
          "execution_count": 9
        }
      ]
    },
    {
      "cell_type": "markdown",
      "source": [
        "**(D) Show all the records where 'No. of Crimes' is 0. And, how many such records are there?**"
      ],
      "metadata": {
        "id": "KCIZEVb0HMKm"
      }
    },
    {
      "cell_type": "code",
      "source": [
        "len(data[data['no_of_crimes'] == 0])"
      ],
      "metadata": {
        "colab": {
          "base_uri": "https://localhost:8080/"
        },
        "id": "22z6m6QNHFZ8",
        "outputId": "967bbe60-4174-4ec3-e6a0-2335641d737b"
      },
      "execution_count": 10,
      "outputs": [
        {
          "output_type": "execute_result",
          "data": {
            "text/plain": [
              "104"
            ]
          },
          "metadata": {},
          "execution_count": 10
        }
      ]
    },
    {
      "cell_type": "markdown",
      "source": [
        "**(E) What is the maximum & minimum 'average_price' per year in england ?**"
      ],
      "metadata": {
        "id": "QaqgmU9GH4oU"
      }
    },
    {
      "cell_type": "code",
      "source": [
        "data['year'] = data['date'].dt.year"
      ],
      "metadata": {
        "id": "jNqTXu4HJUFe"
      },
      "execution_count": 13,
      "outputs": []
    },
    {
      "cell_type": "code",
      "source": [
        "df1 = data[data.area == 'england']\n",
        "df1.head()"
      ],
      "metadata": {
        "colab": {
          "base_uri": "https://localhost:8080/",
          "height": 204
        },
        "id": "1TRSOTntHt9T",
        "outputId": "ba4d3ab9-7512-4c55-e8d6-6b56706904f0"
      },
      "execution_count": 24,
      "outputs": [
        {
          "output_type": "execute_result",
          "data": {
            "text/plain": [
              "        date     area  average_price       code  houses_sold  no_of_crimes  \\\n",
              "0 1995-01-01  england          91449  E09000001         17.0           NaN   \n",
              "1 1995-02-01  england          82203  E09000001          7.0           NaN   \n",
              "2 1995-03-01  england          79121  E09000001         14.0           NaN   \n",
              "3 1995-04-01  england          77101  E09000001          7.0           NaN   \n",
              "4 1995-05-01  england          84409  E09000001         10.0           NaN   \n",
              "\n",
              "   year  \n",
              "0  1995  \n",
              "1  1995  \n",
              "2  1995  \n",
              "3  1995  \n",
              "4  1995  "
            ],
            "text/html": [
              "\n",
              "  <div id=\"df-00ebca4f-5568-4de5-8a95-4159e50b2bc0\">\n",
              "    <div class=\"colab-df-container\">\n",
              "      <div>\n",
              "<style scoped>\n",
              "    .dataframe tbody tr th:only-of-type {\n",
              "        vertical-align: middle;\n",
              "    }\n",
              "\n",
              "    .dataframe tbody tr th {\n",
              "        vertical-align: top;\n",
              "    }\n",
              "\n",
              "    .dataframe thead th {\n",
              "        text-align: right;\n",
              "    }\n",
              "</style>\n",
              "<table border=\"1\" class=\"dataframe\">\n",
              "  <thead>\n",
              "    <tr style=\"text-align: right;\">\n",
              "      <th></th>\n",
              "      <th>date</th>\n",
              "      <th>area</th>\n",
              "      <th>average_price</th>\n",
              "      <th>code</th>\n",
              "      <th>houses_sold</th>\n",
              "      <th>no_of_crimes</th>\n",
              "      <th>year</th>\n",
              "    </tr>\n",
              "  </thead>\n",
              "  <tbody>\n",
              "    <tr>\n",
              "      <th>0</th>\n",
              "      <td>1995-01-01</td>\n",
              "      <td>england</td>\n",
              "      <td>91449</td>\n",
              "      <td>E09000001</td>\n",
              "      <td>17.0</td>\n",
              "      <td>NaN</td>\n",
              "      <td>1995</td>\n",
              "    </tr>\n",
              "    <tr>\n",
              "      <th>1</th>\n",
              "      <td>1995-02-01</td>\n",
              "      <td>england</td>\n",
              "      <td>82203</td>\n",
              "      <td>E09000001</td>\n",
              "      <td>7.0</td>\n",
              "      <td>NaN</td>\n",
              "      <td>1995</td>\n",
              "    </tr>\n",
              "    <tr>\n",
              "      <th>2</th>\n",
              "      <td>1995-03-01</td>\n",
              "      <td>england</td>\n",
              "      <td>79121</td>\n",
              "      <td>E09000001</td>\n",
              "      <td>14.0</td>\n",
              "      <td>NaN</td>\n",
              "      <td>1995</td>\n",
              "    </tr>\n",
              "    <tr>\n",
              "      <th>3</th>\n",
              "      <td>1995-04-01</td>\n",
              "      <td>england</td>\n",
              "      <td>77101</td>\n",
              "      <td>E09000001</td>\n",
              "      <td>7.0</td>\n",
              "      <td>NaN</td>\n",
              "      <td>1995</td>\n",
              "    </tr>\n",
              "    <tr>\n",
              "      <th>4</th>\n",
              "      <td>1995-05-01</td>\n",
              "      <td>england</td>\n",
              "      <td>84409</td>\n",
              "      <td>E09000001</td>\n",
              "      <td>10.0</td>\n",
              "      <td>NaN</td>\n",
              "      <td>1995</td>\n",
              "    </tr>\n",
              "  </tbody>\n",
              "</table>\n",
              "</div>\n",
              "      <button class=\"colab-df-convert\" onclick=\"convertToInteractive('df-00ebca4f-5568-4de5-8a95-4159e50b2bc0')\"\n",
              "              title=\"Convert this dataframe to an interactive table.\"\n",
              "              style=\"display:none;\">\n",
              "        \n",
              "  <svg xmlns=\"http://www.w3.org/2000/svg\" height=\"24px\"viewBox=\"0 0 24 24\"\n",
              "       width=\"24px\">\n",
              "    <path d=\"M0 0h24v24H0V0z\" fill=\"none\"/>\n",
              "    <path d=\"M18.56 5.44l.94 2.06.94-2.06 2.06-.94-2.06-.94-.94-2.06-.94 2.06-2.06.94zm-11 1L8.5 8.5l.94-2.06 2.06-.94-2.06-.94L8.5 2.5l-.94 2.06-2.06.94zm10 10l.94 2.06.94-2.06 2.06-.94-2.06-.94-.94-2.06-.94 2.06-2.06.94z\"/><path d=\"M17.41 7.96l-1.37-1.37c-.4-.4-.92-.59-1.43-.59-.52 0-1.04.2-1.43.59L10.3 9.45l-7.72 7.72c-.78.78-.78 2.05 0 2.83L4 21.41c.39.39.9.59 1.41.59.51 0 1.02-.2 1.41-.59l7.78-7.78 2.81-2.81c.8-.78.8-2.07 0-2.86zM5.41 20L4 18.59l7.72-7.72 1.47 1.35L5.41 20z\"/>\n",
              "  </svg>\n",
              "      </button>\n",
              "      \n",
              "  <style>\n",
              "    .colab-df-container {\n",
              "      display:flex;\n",
              "      flex-wrap:wrap;\n",
              "      gap: 12px;\n",
              "    }\n",
              "\n",
              "    .colab-df-convert {\n",
              "      background-color: #E8F0FE;\n",
              "      border: none;\n",
              "      border-radius: 50%;\n",
              "      cursor: pointer;\n",
              "      display: none;\n",
              "      fill: #1967D2;\n",
              "      height: 32px;\n",
              "      padding: 0 0 0 0;\n",
              "      width: 32px;\n",
              "    }\n",
              "\n",
              "    .colab-df-convert:hover {\n",
              "      background-color: #E2EBFA;\n",
              "      box-shadow: 0px 1px 2px rgba(60, 64, 67, 0.3), 0px 1px 3px 1px rgba(60, 64, 67, 0.15);\n",
              "      fill: #174EA6;\n",
              "    }\n",
              "\n",
              "    [theme=dark] .colab-df-convert {\n",
              "      background-color: #3B4455;\n",
              "      fill: #D2E3FC;\n",
              "    }\n",
              "\n",
              "    [theme=dark] .colab-df-convert:hover {\n",
              "      background-color: #434B5C;\n",
              "      box-shadow: 0px 1px 3px 1px rgba(0, 0, 0, 0.15);\n",
              "      filter: drop-shadow(0px 1px 2px rgba(0, 0, 0, 0.3));\n",
              "      fill: #FFFFFF;\n",
              "    }\n",
              "  </style>\n",
              "\n",
              "      <script>\n",
              "        const buttonEl =\n",
              "          document.querySelector('#df-00ebca4f-5568-4de5-8a95-4159e50b2bc0 button.colab-df-convert');\n",
              "        buttonEl.style.display =\n",
              "          google.colab.kernel.accessAllowed ? 'block' : 'none';\n",
              "\n",
              "        async function convertToInteractive(key) {\n",
              "          const element = document.querySelector('#df-00ebca4f-5568-4de5-8a95-4159e50b2bc0');\n",
              "          const dataTable =\n",
              "            await google.colab.kernel.invokeFunction('convertToInteractive',\n",
              "                                                     [key], {});\n",
              "          if (!dataTable) return;\n",
              "\n",
              "          const docLinkHtml = 'Like what you see? Visit the ' +\n",
              "            '<a target=\"_blank\" href=https://colab.research.google.com/notebooks/data_table.ipynb>data table notebook</a>'\n",
              "            + ' to learn more about interactive tables.';\n",
              "          element.innerHTML = '';\n",
              "          dataTable['output_type'] = 'display_data';\n",
              "          await google.colab.output.renderOutput(dataTable, element);\n",
              "          const docLink = document.createElement('div');\n",
              "          docLink.innerHTML = docLinkHtml;\n",
              "          element.appendChild(docLink);\n",
              "        }\n",
              "      </script>\n",
              "    </div>\n",
              "  </div>\n",
              "  "
            ]
          },
          "metadata": {},
          "execution_count": 24
        }
      ]
    },
    {
      "cell_type": "code",
      "source": [
        "df1.groupby('year').average_price.min()"
      ],
      "metadata": {
        "colab": {
          "base_uri": "https://localhost:8080/"
        },
        "id": "UeyrwGwpJG7Q",
        "outputId": "f48c9b24-fc6a-4959-eb2d-bde871b6763f"
      },
      "execution_count": 26,
      "outputs": [
        {
          "output_type": "execute_result",
          "data": {
            "text/plain": [
              "year\n",
              "1995     41688\n",
              "1996     40722\n",
              "1997     42353\n",
              "1998     43510\n",
              "1999     43969\n",
              "2000     47604\n",
              "2001     49045\n",
              "2002     54746\n",
              "2003     67520\n",
              "2004     88520\n",
              "2005    110454\n",
              "2006    121124\n",
              "2007    131175\n",
              "2008    120275\n",
              "2009    117079\n",
              "2010    119688\n",
              "2011    115328\n",
              "2012    113011\n",
              "2013    112008\n",
              "2014    114531\n",
              "2015    117156\n",
              "2016    121085\n",
              "2017    121858\n",
              "2018    124038\n",
              "2019    124567\n",
              "2020    126592\n",
              "Name: average_price, dtype: int64"
            ]
          },
          "metadata": {},
          "execution_count": 26
        }
      ]
    },
    {
      "cell_type": "code",
      "source": [
        "df1.groupby('year').average_price.max()"
      ],
      "metadata": {
        "colab": {
          "base_uri": "https://localhost:8080/"
        },
        "id": "0nKBXqkSKv7C",
        "outputId": "e7f3147b-5a9b-4f4e-e5ff-d9b2dfc53f78"
      },
      "execution_count": 27,
      "outputs": [
        {
          "output_type": "execute_result",
          "data": {
            "text/plain": [
              "year\n",
              "1995     200722\n",
              "1996     223197\n",
              "1997     265112\n",
              "1998     277600\n",
              "1999     354241\n",
              "2000     397353\n",
              "2001     451028\n",
              "2002     497538\n",
              "2003     488704\n",
              "2004     559286\n",
              "2005     555847\n",
              "2006     644541\n",
              "2007     830950\n",
              "2008     832753\n",
              "2009     782459\n",
              "2010     884674\n",
              "2011     959520\n",
              "2012    1077366\n",
              "2013    1217729\n",
              "2014    1365050\n",
              "2015    1353679\n",
              "2016    1357231\n",
              "2017    1412255\n",
              "2018    1463378\n",
              "2019    1294113\n",
              "2020    1178166\n",
              "Name: average_price, dtype: int64"
            ]
          },
          "metadata": {},
          "execution_count": 27
        }
      ]
    },
    {
      "cell_type": "markdown",
      "source": [
        "**(F) What is the Maximum & Minimum No. of Crimes recorded per area?**"
      ],
      "metadata": {
        "id": "XWyKJcrJK5jB"
      }
    },
    {
      "cell_type": "code",
      "source": [
        "data.groupby('area').no_of_crimes.max()"
      ],
      "metadata": {
        "colab": {
          "base_uri": "https://localhost:8080/"
        },
        "id": "c-fwxO8eKz0N",
        "outputId": "94f85228-1163-4b01-f950-a24882752d88"
      },
      "execution_count": 30,
      "outputs": [
        {
          "output_type": "execute_result",
          "data": {
            "text/plain": [
              "area\n",
              "barking and dagenham      2049.0\n",
              "barnet                    2893.0\n",
              "bexley                    1914.0\n",
              "brent                     2937.0\n",
              "bromley                   2637.0\n",
              "camden                    4558.0\n",
              "city of london              10.0\n",
              "croydon                   3263.0\n",
              "ealing                    3401.0\n",
              "east midlands                NaN\n",
              "east of england              NaN\n",
              "enfield                   2798.0\n",
              "england                      NaN\n",
              "greenwich                 2853.0\n",
              "hackney                   3466.0\n",
              "hammersmith and fulham    2645.0\n",
              "haringey                  3199.0\n",
              "harrow                    1763.0\n",
              "havering                  1956.0\n",
              "hillingdon                2819.0\n",
              "hounslow                  2817.0\n",
              "inner london                 NaN\n",
              "islington                 3384.0\n",
              "kensington and chelsea    2778.0\n",
              "kingston upon thames      1379.0\n",
              "lambeth                   4701.0\n",
              "lewisham                  2813.0\n",
              "london                       NaN\n",
              "merton                    1623.0\n",
              "newham                    3668.0\n",
              "north east                   NaN\n",
              "north west                   NaN\n",
              "outer london                 NaN\n",
              "redbridge                 2560.0\n",
              "richmond upon thames      1551.0\n",
              "south east                   NaN\n",
              "south west                   NaN\n",
              "southwark                 3821.0\n",
              "sutton                    1425.0\n",
              "tower hamlets             3316.0\n",
              "waltham forest            2941.0\n",
              "wandsworth                3051.0\n",
              "west midlands                NaN\n",
              "westminster               7461.0\n",
              "yorks and the humber         NaN\n",
              "Name: no_of_crimes, dtype: float64"
            ]
          },
          "metadata": {},
          "execution_count": 30
        }
      ]
    },
    {
      "cell_type": "code",
      "source": [
        "data.groupby('area').no_of_crimes.min()"
      ],
      "metadata": {
        "colab": {
          "base_uri": "https://localhost:8080/"
        },
        "id": "5am-2_JjN9Jv",
        "outputId": "52bd9204-63db-4b1c-8ed9-9d3eeb300c4f"
      },
      "execution_count": 31,
      "outputs": [
        {
          "output_type": "execute_result",
          "data": {
            "text/plain": [
              "area\n",
              "barking and dagenham      1217.0\n",
              "barnet                    1703.0\n",
              "bexley                     860.0\n",
              "brent                     1850.0\n",
              "bromley                   1441.0\n",
              "camden                    2079.0\n",
              "city of london               0.0\n",
              "croydon                   2031.0\n",
              "ealing                    1871.0\n",
              "east midlands                NaN\n",
              "east of england              NaN\n",
              "enfield                   1635.0\n",
              "england                      NaN\n",
              "greenwich                 1513.0\n",
              "hackney                   1870.0\n",
              "hammersmith and fulham    1323.0\n",
              "haringey                  1536.0\n",
              "harrow                     937.0\n",
              "havering                  1130.0\n",
              "hillingdon                1445.0\n",
              "hounslow                  1529.0\n",
              "inner london                 NaN\n",
              "islington                 1871.0\n",
              "kensington and chelsea    1347.0\n",
              "kingston upon thames       692.0\n",
              "lambeth                   2381.0\n",
              "lewisham                  1675.0\n",
              "london                       NaN\n",
              "merton                     819.0\n",
              "newham                    2130.0\n",
              "north east                   NaN\n",
              "north west                   NaN\n",
              "outer london                 NaN\n",
              "redbridge                 1487.0\n",
              "richmond upon thames       700.0\n",
              "south east                   NaN\n",
              "south west                   NaN\n",
              "southwark                 2267.0\n",
              "sutton                     787.0\n",
              "tower hamlets             1646.0\n",
              "waltham forest            1575.0\n",
              "wandsworth                1582.0\n",
              "west midlands                NaN\n",
              "westminster               3504.0\n",
              "yorks and the humber         NaN\n",
              "Name: no_of_crimes, dtype: float64"
            ]
          },
          "metadata": {},
          "execution_count": 31
        }
      ]
    },
    {
      "cell_type": "markdown",
      "source": [
        "**(G) Show the total count of records of each area, where average price is less than 100000.**"
      ],
      "metadata": {
        "id": "gass6qAvOJpJ"
      }
    },
    {
      "cell_type": "code",
      "source": [
        "data[data['average_price'] < 100000].area.value_counts()"
      ],
      "metadata": {
        "colab": {
          "base_uri": "https://localhost:8080/"
        },
        "id": "EyONwXHHOE3y",
        "outputId": "e33f54d6-bca6-4ab9-e574-37371f3b07fd"
      },
      "execution_count": 39,
      "outputs": [
        {
          "output_type": "execute_result",
          "data": {
            "text/plain": [
              "north east              112\n",
              "north west              111\n",
              "yorks and the humber    110\n",
              "east midlands            96\n",
              "west midlands            94\n",
              "england                  87\n",
              "barking and dagenham     85\n",
              "south west               78\n",
              "east of england          76\n",
              "newham                   72\n",
              "bexley                   64\n",
              "waltham forest           64\n",
              "lewisham                 62\n",
              "havering                 60\n",
              "south east               59\n",
              "greenwich                59\n",
              "croydon                  57\n",
              "enfield                  54\n",
              "sutton                   54\n",
              "hackney                  53\n",
              "redbridge                52\n",
              "southwark                48\n",
              "tower hamlets            47\n",
              "outer london             46\n",
              "hillingdon               44\n",
              "lambeth                  41\n",
              "hounslow                 41\n",
              "brent                    40\n",
              "london                   39\n",
              "merton                   35\n",
              "haringey                 33\n",
              "bromley                  33\n",
              "inner london             31\n",
              "ealing                   31\n",
              "kingston upon thames     30\n",
              "harrow                   30\n",
              "wandsworth               26\n",
              "barnet                   25\n",
              "islington                19\n",
              "city of london           11\n",
              "Name: area, dtype: int64"
            ]
          },
          "metadata": {},
          "execution_count": 39
        }
      ]
    },
    {
      "cell_type": "markdown",
      "source": [
        "# **Done by Syed Miran Hussain**"
      ],
      "metadata": {
        "id": "W9ZyGzdtPGwv"
      }
    }
  ]
}